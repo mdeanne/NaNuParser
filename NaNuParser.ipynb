{
  "nbformat": 4,
  "nbformat_minor": 0,
  "metadata": {
    "colab": {
      "name": "NaNuParser.ipynb",
      "provenance": [],
      "collapsed_sections": [],
      "include_colab_link": true
    },
    "kernelspec": {
      "name": "python3",
      "display_name": "Python 3"
    }
  },
  "cells": [
    {
      "cell_type": "markdown",
      "metadata": {
        "id": "view-in-github",
        "colab_type": "text"
      },
      "source": [
        "<a href=\"https://colab.research.google.com/github/mdeanne/NaNuParser/blob/master/NaNuParser.ipynb\" target=\"_parent\"><img src=\"https://colab.research.google.com/assets/colab-badge.svg\" alt=\"Open In Colab\"/></a>"
      ]
    },
    {
      "cell_type": "markdown",
      "metadata": {
        "id": "fD4Pml1MaoZd",
        "colab_type": "text"
      },
      "source": [
        "Ты должен загрузить файлы\n",
        "\n",
        "1.   Нажать на стрелочку слева под кнопкой **+ Code**\n",
        "2.   Вкладка **Files**\n",
        "3.   **Upload** \n",
        "*    Файл с фамилиями должен называться names.xlsx\n",
        "*    Остальные могут называться как угодно, главное, чтобы текст находился в первом столбце\n",
        "4.   Нажать на кнопочку **Play** на ячейке ниже или сочетание клавиш **Shift + Enter**\n",
        "5.   **Refrash** в левом меню\n",
        "6.   В появившейся папке **output** можно скачать файлы через **ПКМ Download**\n",
        "7.   Если запустить следующую ячейку, то будет создан заархивированный файл с результатами\n",
        "8.   Если требуется запустить парсинг заново с другими файлами, а по одиночке удалять их лень, то нужно запустить последнюю ячейку удаляющую все и загрузить файлы заново"
      ]
    },
    {
      "cell_type": "code",
      "metadata": {
        "id": "azPDhfqXDS3O",
        "colab_type": "code",
        "cellView": "form",
        "colab": {}
      },
      "source": [
        "#@title Парсинг чисел и фамилий\n",
        "import pandas as pd\n",
        "\n",
        "\n",
        "def get_paths_data_files():\n",
        "  file_names = !ls *.xlsx\n",
        "  file_names = file_names[0].split()\n",
        "  general_path = !pwd\n",
        "  general_path = general_path[0] + '/'\n",
        "  file_names.remove('names.xlsx')\n",
        "  for i in range(len(file_names)):\n",
        "    file_names[i] = general_path + file_names[i]\n",
        "  return(file_names)\n",
        "\n",
        "def read_file(parsing_path):\n",
        "  df = pd.read_excel(parsing_path)\n",
        "  return (df)\n",
        "\n",
        "def read_names(parsing_path_names):\n",
        "  df = pd.read_excel(parsing_path_names)\n",
        "  return (df)\n",
        "\n",
        "def num_extract(line):\n",
        "  nums = set('0123456789')\n",
        "  ret = 0\n",
        "  list_rets = []\n",
        "  for i in range(len(line)):\n",
        "    if not nums.isdisjoint(line[i]):\n",
        "      ret = ret * 10 + int(line[i])\n",
        "  if ret != 0:\n",
        "    list_rets.append(ret)\n",
        "  ret = 0\n",
        "  return (list_rets)\n",
        "\n",
        "def make_time_lst(arr_line):\n",
        "  lst = []\n",
        "  for i in range(len(arr_line)):\n",
        "    ret = num_extract(arr_line[i])\n",
        "    if ret != 0:\n",
        "      lst = lst + ret\n",
        "  return (', '.join(str(x) for x in lst))\n",
        "\n",
        "def name_ends_off(name):\n",
        "  vovels = set('аоэеиыуёюя')\n",
        "  i = 0\n",
        "  while i < len(name) and not vovels.isdisjoint(name[-1 - i]):\n",
        "    i = i + 1\n",
        "  if i == 0:\n",
        "    return(name)\n",
        "  return(name[:-i])\n",
        "\n",
        "def names_ends_off(name_list):\n",
        "  ret = []\n",
        "  for i in range(len(name_list)):\n",
        "    ret.append(name_ends_off(name_list[i]).lower())\n",
        "  return(ret)\n",
        "\n",
        "def word_name_compare_indx(word, lst_names):\n",
        "  \n",
        "  for i in range(len(lst_names)):\n",
        "    if lst_names[i] == word[:len(lst_names[i])].lower():\n",
        "      return (i)\n",
        "  return (-1)\n",
        "\n",
        "def grab_names(lst_line, lst_names, original_names):\n",
        "  ret = \"\"\n",
        "  for i in range(len(lst_line)):\n",
        "    tmp = word_name_compare_indx(lst_line[i], lst_names)\n",
        "    if tmp != -1:\n",
        "      ret = ret + ', ' + original_names[tmp]\n",
        "  return (ret[2:])\n",
        "\n",
        "def isNaN(num):\n",
        "    return num != num\n",
        "\n",
        "df_names = read_file('/content/names.xlsx')\n",
        "original_names = df_names[list(df_names)[0]]\n",
        "lst_names = names_ends_off(original_names)\n",
        "files_paths = get_paths_data_files()\n",
        "!mkdir output\n",
        "\n",
        "for file_indx in range(len(files_paths)):\n",
        "  if files_paths[file_indx] == '/content/names.xlsx':\n",
        "    continue\n",
        "  df = read_file(files_paths[file_indx])\n",
        "  name_col = list(df)[0]\n",
        "  lst_num = []\n",
        "  lst_workers = []\n",
        "  for i in range(len(df[name_col])):\n",
        "    if isNaN(df[name_col][i]):\n",
        "      continue\n",
        "    lst_line = df[name_col][i].split()\n",
        "    lst_num.append(make_time_lst(lst_line))\n",
        "    lst_workers.append(grab_names(lst_line, lst_names, original_names))\n",
        "  df['time'] = pd.Series(lst_num)\n",
        "  df['workers'] = pd.Series(lst_workers)\n",
        "  df.to_excel('/content/output/' + files_paths[file_indx][9:-5] + '_UPD.xlsx')\n"
      ],
      "execution_count": 0,
      "outputs": []
    },
    {
      "cell_type": "code",
      "metadata": {
        "id": "HYULagb5zNQu",
        "colab_type": "code",
        "cellView": "form",
        "colab": {}
      },
      "source": [
        "#@title Заархивировать результаты в файл output.zip\n",
        "!zip -r output.zip output/"
      ],
      "execution_count": 0,
      "outputs": []
    },
    {
      "cell_type": "code",
      "metadata": {
        "id": "A2jeJe4i0-Rr",
        "colab_type": "code",
        "cellView": "form",
        "colab": {}
      },
      "source": [
        "#@title Удалить все и быстро\n",
        "!rm -rf *"
      ],
      "execution_count": 0,
      "outputs": []
    },
    {
      "cell_type": "markdown",
      "metadata": {
        "id": "D9HZVqbg4SlM",
        "colab_type": "text"
      },
      "source": [
        "NaNuParser (Parser of names and numbers) **Copyright (C)** 2019 <mdeanne> [mdeanne](https://github.com/mdeanne)"
      ]
    }
  ]
}